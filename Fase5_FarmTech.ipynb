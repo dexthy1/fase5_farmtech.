{
 "cells": [
  {
   "cell_type": "markdown",
   "id": "5127f52e",
   "metadata": {},
   "source": [
    "# Fase 5 - FarmTech Solutions\n",
    "\n",
    "Este notebook contém a análise exploratória de dados, clusterização e modelos de Machine Learning."
   ]
  },
  {
   "cell_type": "code",
   "execution_count": null,
   "id": "542c8c33",
   "metadata": {},
   "outputs": [],
   "source": [
    "import pandas as pd\n",
    "import numpy as np\n",
    "import matplotlib.pyplot as plt\n",
    "import seaborn as sns\n",
    "from sklearn.model_selection import train_test_split\n",
    "from sklearn.preprocessing import StandardScaler\n",
    "from sklearn.cluster import KMeans\n",
    "from sklearn.linear_model import LinearRegression\n",
    "from sklearn.ensemble import RandomForestRegressor, GradientBoostingRegressor\n",
    "from sklearn.svm import SVR\n",
    "from sklearn.neural_network import MLPRegressor\n",
    "from sklearn.metrics import mean_absolute_error, mean_squared_error, r2_score\n",
    "\n",
    "# Carregar a base de dados\n",
    "df = pd.read_csv(\"crop_yield.csv\")\n",
    "\n",
    "# Exibir as primeiras linhas\n",
    "df.head()\n"
   ]
  },
  {
   "cell_type": "code",
   "execution_count": null,
   "id": "14ea5072",
   "metadata": {},
   "outputs": [],
   "source": [
    "# Estatísticas descritivas\n",
    "df.describe()\n",
    "\n",
    "# Verificar valores nulos\n",
    "df.isnull().sum()\n"
   ]
  },
  {
   "cell_type": "code",
   "execution_count": null,
   "id": "08c300a9",
   "metadata": {},
   "outputs": [],
   "source": [
    "# Gráficos de distribuição\n",
    "df.hist(figsize=(12, 10), bins=30, edgecolor='black')\n",
    "plt.suptitle(\"Distribuição das Variáveis Numéricas\")\n",
    "plt.show()\n"
   ]
  },
  {
   "cell_type": "code",
   "execution_count": null,
   "id": "9aff1f66",
   "metadata": {},
   "outputs": [],
   "source": [
    "# Matriz de correlação\n",
    "plt.figure(figsize=(10, 6))\n",
    "sns.heatmap(df.corr(numeric_only=True), annot=True, cmap=\"coolwarm\", fmt=\".2f\", linewidths=0.5)\n",
    "plt.title(\"Matriz de Correlação entre as Variáveis\")\n",
    "plt.show()\n"
   ]
  },
  {
   "cell_type": "code",
   "execution_count": null,
   "id": "339d8a0a",
   "metadata": {},
   "outputs": [],
   "source": [
    "# Normalizar os dados para clusterização\n",
    "features = [\"Precipitation (mm day-1)\", \"Specific Humidity at 2 Meters (g/kg)\",\n",
    "            \"Relative Humidity at 2 Meters (%)\", \"Temperature at 2 Meters (C)\", \"Yield\"]\n",
    "scaler = StandardScaler()\n",
    "df_scaled = scaler.fit_transform(df[features])\n",
    "\n",
    "# Aplicar K-Means para agrupar os dados\n",
    "kmeans = KMeans(n_clusters=3, random_state=42, n_init=10)\n",
    "df[\"Cluster\"] = kmeans.fit_predict(df_scaled)\n",
    "\n",
    "# Visualizar os clusters\n",
    "plt.figure(figsize=(10, 6))\n",
    "sns.scatterplot(x=df[\"Temperature at 2 Meters (C)\"], y=df[\"Yield\"], hue=df[\"Cluster\"], palette=\"viridis\")\n",
    "plt.title(\"Clusters Baseados na Temperatura e Rendimento\")\n",
    "plt.xlabel(\"Temperatura (°C)\")\n",
    "plt.ylabel(\"Rendimento (ton/ha)\")\n",
    "plt.legend(title=\"Cluster\")\n",
    "plt.show()\n"
   ]
  },
  {
   "cell_type": "code",
   "execution_count": null,
   "id": "1ef58b0d",
   "metadata": {},
   "outputs": [],
   "source": [
    "# Separar features e target\n",
    "X = df[[\"Precipitation (mm day-1)\", \"Specific Humidity at 2 Meters (g/kg)\",\n",
    "        \"Relative Humidity at 2 Meters (%)\", \"Temperature at 2 Meters (C)\"]]\n",
    "y = df[\"Yield\"]\n",
    "\n",
    "# Dividir em treino e teste\n",
    "X_train, X_test, y_train, y_test = train_test_split(X, y, test_size=0.2, random_state=42)\n",
    "\n",
    "# Criar modelos\n",
    "models = {\n",
    "    \"Regressão Linear\": LinearRegression(),\n",
    "    \"Random Forest\": RandomForestRegressor(n_estimators=100, random_state=42),\n",
    "    \"Gradient Boosting\": GradientBoostingRegressor(n_estimators=100, random_state=42),\n",
    "    \"SVR\": SVR(kernel=\"rbf\"),\n",
    "    \"Redes Neurais (MLP)\": MLPRegressor(hidden_layer_sizes=(50, 50), max_iter=500, random_state=42)\n",
    "}\n",
    "\n",
    "# Treinar e avaliar modelos\n",
    "results = []\n",
    "for name, model in models.items():\n",
    "    model.fit(X_train, y_train)\n",
    "    y_pred = model.predict(X_test)\n",
    "\n",
    "    mae = mean_absolute_error(y_test, y_pred)\n",
    "    mse = mean_squared_error(y_test, y_pred)\n",
    "    r2 = r2_score(y_test, y_pred)\n",
    "\n",
    "    results.append([name, mae, mse, r2])\n",
    "\n",
    "# Criar DataFrame com os resultados\n",
    "df_results = pd.DataFrame(results, columns=[\"Modelo\", \"MAE\", \"MSE\", \"R²\"])\n",
    "\n",
    "# Exibir resultados dos modelos\n",
    "df_results\n"
   ]
  }
 ],
 "metadata": {},
 "nbformat": 4,
 "nbformat_minor": 5
}
